{
 "cells": [
  {
   "cell_type": "code",
   "execution_count": 2,
   "id": "0f94034d-7e5e-45fe-96aa-122bc1b194e3",
   "metadata": {},
   "outputs": [],
   "source": [
    "from datasets import load_dataset\n",
    "import pandas as pd"
   ]
  },
  {
   "cell_type": "code",
   "execution_count": 3,
   "id": "941a9551-9646-4e36-82da-27c0a863660a",
   "metadata": {},
   "outputs": [
    {
     "name": "stderr",
     "output_type": "stream",
     "text": [
      "/home/lilian/Documents/SCIA/WikipediaNLP1/venv/lib/python3.11/site-packages/datasets/load.py:1461: FutureWarning: The repository for wikipedia contains custom code which must be executed to correctly load the dataset. You can inspect the repository content at https://hf.co/datasets/wikipedia\n",
      "You can avoid this message in future by passing the argument `trust_remote_code=True`.\n",
      "Passing `trust_remote_code=True` will be mandatory to load this dataset from the next major release of `datasets`.\n",
      "  warnings.warn(\n"
     ]
    }
   ],
   "source": [
    "dataset = load_dataset(\"wikipedia\", \"20220301.en\")"
   ]
  },
  {
   "cell_type": "code",
   "execution_count": 4,
   "id": "6d35cba5-2651-4865-94f5-246c7303ae34",
   "metadata": {},
   "outputs": [],
   "source": [
    "NB_SHARD = 32"
   ]
  },
  {
   "cell_type": "code",
   "execution_count": 5,
   "id": "2634498c-e0d2-4074-9c7f-0857415c0792",
   "metadata": {},
   "outputs": [],
   "source": [
    "dataset = dataset[\"train\"]"
   ]
  },
  {
   "cell_type": "code",
   "execution_count": 6,
   "id": "1103bc03-3d5e-426f-a29f-a275dee6f99b",
   "metadata": {},
   "outputs": [],
   "source": [
    "def load_dataframe(shard_index: int):\n",
    "    shard = dataset.shard(NB_SHARD, shard_index)\n",
    "    return pd.DataFrame(shard)"
   ]
  },
  {
   "cell_type": "code",
   "execution_count": 7,
   "id": "1bddf33b-82b3-47d7-a904-de8146ef0de6",
   "metadata": {},
   "outputs": [],
   "source": [
    "def create_resources():\n",
    "    for i in range(NB_SHARD):\n",
    "        df = load_dataframe(i)\n",
    "        view = df[[\"id\", \"title\"]]\n",
    "        view.to_csv(f\"./shards/shard_{i}.csv\")\n",
    "        del df\n",
    "        print(f\"processed shard number {i}\")"
   ]
  },
  {
   "cell_type": "code",
   "execution_count": 8,
   "id": "ea43e9ff-7e53-4edb-a77f-d80fa35ade9c",
   "metadata": {},
   "outputs": [
    {
     "name": "stdout",
     "output_type": "stream",
     "text": [
      "processed shard number 0\n",
      "processed shard number 1\n",
      "processed shard number 2\n",
      "processed shard number 3\n",
      "processed shard number 4\n",
      "processed shard number 5\n",
      "processed shard number 6\n",
      "processed shard number 7\n",
      "processed shard number 8\n",
      "processed shard number 9\n",
      "processed shard number 10\n",
      "processed shard number 11\n",
      "processed shard number 12\n",
      "processed shard number 13\n",
      "processed shard number 14\n",
      "processed shard number 15\n",
      "processed shard number 16\n",
      "processed shard number 17\n",
      "processed shard number 18\n",
      "processed shard number 19\n",
      "processed shard number 20\n",
      "processed shard number 21\n",
      "processed shard number 22\n",
      "processed shard number 23\n",
      "processed shard number 24\n",
      "processed shard number 25\n",
      "processed shard number 26\n",
      "processed shard number 27\n",
      "processed shard number 28\n",
      "processed shard number 29\n",
      "processed shard number 30\n",
      "processed shard number 31\n"
     ]
    }
   ],
   "source": [
    "create_resources()"
   ]
  },
  {
   "cell_type": "code",
   "execution_count": null,
   "id": "5d68d786-f94b-4ae0-97cf-80406d187fa3",
   "metadata": {},
   "outputs": [],
   "source": []
  }
 ],
 "metadata": {
  "kernelspec": {
   "display_name": "Python 3 (ipykernel)",
   "language": "python",
   "name": "python3"
  },
  "language_info": {
   "codemirror_mode": {
    "name": "ipython",
    "version": 3
   },
   "file_extension": ".py",
   "mimetype": "text/x-python",
   "name": "python",
   "nbconvert_exporter": "python",
   "pygments_lexer": "ipython3",
   "version": "3.11.6"
  }
 },
 "nbformat": 4,
 "nbformat_minor": 5
}
